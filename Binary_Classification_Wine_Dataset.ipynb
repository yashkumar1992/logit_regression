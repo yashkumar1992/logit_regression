{
 "cells": [
  {
   "cell_type": "code",
   "execution_count": 197,
   "metadata": {},
   "outputs": [],
   "source": [
    "import pandas as pd\n",
    "import numpy as np"
   ]
  },
  {
   "cell_type": "code",
   "execution_count": 198,
   "metadata": {},
   "outputs": [
    {
     "data": {
      "text/html": [
       "<div>\n",
       "<style scoped>\n",
       "    .dataframe tbody tr th:only-of-type {\n",
       "        vertical-align: middle;\n",
       "    }\n",
       "\n",
       "    .dataframe tbody tr th {\n",
       "        vertical-align: top;\n",
       "    }\n",
       "\n",
       "    .dataframe thead th {\n",
       "        text-align: right;\n",
       "    }\n",
       "</style>\n",
       "<table border=\"1\" class=\"dataframe\">\n",
       "  <thead>\n",
       "    <tr style=\"text-align: right;\">\n",
       "      <th></th>\n",
       "      <th>fixed acidity</th>\n",
       "      <th>volatile acidity</th>\n",
       "      <th>citric acid</th>\n",
       "      <th>residual sugar</th>\n",
       "      <th>chlorides</th>\n",
       "      <th>free sulfur dioxide</th>\n",
       "      <th>total sulfur dioxide</th>\n",
       "      <th>density</th>\n",
       "      <th>pH</th>\n",
       "      <th>sulphates</th>\n",
       "      <th>alcohol</th>\n",
       "      <th>quality</th>\n",
       "    </tr>\n",
       "  </thead>\n",
       "  <tbody>\n",
       "    <tr>\n",
       "      <th>0</th>\n",
       "      <td>7.4</td>\n",
       "      <td>0.70</td>\n",
       "      <td>0.00</td>\n",
       "      <td>1.9</td>\n",
       "      <td>0.076</td>\n",
       "      <td>11.0</td>\n",
       "      <td>34.0</td>\n",
       "      <td>0.9978</td>\n",
       "      <td>3.51</td>\n",
       "      <td>0.56</td>\n",
       "      <td>9.4</td>\n",
       "      <td>bad</td>\n",
       "    </tr>\n",
       "    <tr>\n",
       "      <th>1</th>\n",
       "      <td>7.8</td>\n",
       "      <td>0.88</td>\n",
       "      <td>0.00</td>\n",
       "      <td>2.6</td>\n",
       "      <td>0.098</td>\n",
       "      <td>25.0</td>\n",
       "      <td>67.0</td>\n",
       "      <td>0.9968</td>\n",
       "      <td>3.20</td>\n",
       "      <td>0.68</td>\n",
       "      <td>9.8</td>\n",
       "      <td>bad</td>\n",
       "    </tr>\n",
       "    <tr>\n",
       "      <th>2</th>\n",
       "      <td>7.8</td>\n",
       "      <td>0.76</td>\n",
       "      <td>0.04</td>\n",
       "      <td>2.3</td>\n",
       "      <td>0.092</td>\n",
       "      <td>15.0</td>\n",
       "      <td>54.0</td>\n",
       "      <td>0.9970</td>\n",
       "      <td>3.26</td>\n",
       "      <td>0.65</td>\n",
       "      <td>9.8</td>\n",
       "      <td>bad</td>\n",
       "    </tr>\n",
       "    <tr>\n",
       "      <th>3</th>\n",
       "      <td>11.2</td>\n",
       "      <td>0.28</td>\n",
       "      <td>0.56</td>\n",
       "      <td>1.9</td>\n",
       "      <td>0.075</td>\n",
       "      <td>17.0</td>\n",
       "      <td>60.0</td>\n",
       "      <td>0.9980</td>\n",
       "      <td>3.16</td>\n",
       "      <td>0.58</td>\n",
       "      <td>9.8</td>\n",
       "      <td>good</td>\n",
       "    </tr>\n",
       "    <tr>\n",
       "      <th>4</th>\n",
       "      <td>7.4</td>\n",
       "      <td>0.70</td>\n",
       "      <td>0.00</td>\n",
       "      <td>1.9</td>\n",
       "      <td>0.076</td>\n",
       "      <td>11.0</td>\n",
       "      <td>34.0</td>\n",
       "      <td>0.9978</td>\n",
       "      <td>3.51</td>\n",
       "      <td>0.56</td>\n",
       "      <td>9.4</td>\n",
       "      <td>bad</td>\n",
       "    </tr>\n",
       "  </tbody>\n",
       "</table>\n",
       "</div>"
      ],
      "text/plain": [
       "   fixed acidity  volatile acidity  citric acid  residual sugar  chlorides  \\\n",
       "0            7.4              0.70         0.00             1.9      0.076   \n",
       "1            7.8              0.88         0.00             2.6      0.098   \n",
       "2            7.8              0.76         0.04             2.3      0.092   \n",
       "3           11.2              0.28         0.56             1.9      0.075   \n",
       "4            7.4              0.70         0.00             1.9      0.076   \n",
       "\n",
       "   free sulfur dioxide  total sulfur dioxide  density    pH  sulphates  \\\n",
       "0                 11.0                  34.0   0.9978  3.51       0.56   \n",
       "1                 25.0                  67.0   0.9968  3.20       0.68   \n",
       "2                 15.0                  54.0   0.9970  3.26       0.65   \n",
       "3                 17.0                  60.0   0.9980  3.16       0.58   \n",
       "4                 11.0                  34.0   0.9978  3.51       0.56   \n",
       "\n",
       "   alcohol quality  \n",
       "0      9.4     bad  \n",
       "1      9.8     bad  \n",
       "2      9.8     bad  \n",
       "3      9.8    good  \n",
       "4      9.4     bad  "
      ]
     },
     "execution_count": 198,
     "metadata": {},
     "output_type": "execute_result"
    }
   ],
   "source": [
    "# import data\n",
    "wine_data_path = \"wine.csv\"\n",
    "data = pd.read_csv(wine_data_path)\n",
    "data.head()"
   ]
  },
  {
   "cell_type": "code",
   "execution_count": 199,
   "metadata": {},
   "outputs": [
    {
     "name": "stdout",
     "output_type": "stream",
     "text": [
      "<class 'pandas.core.frame.DataFrame'>\n",
      "RangeIndex: 1599 entries, 0 to 1598\n",
      "Data columns (total 12 columns):\n",
      " #   Column                Non-Null Count  Dtype  \n",
      "---  ------                --------------  -----  \n",
      " 0   fixed acidity         1599 non-null   float64\n",
      " 1   volatile acidity      1599 non-null   float64\n",
      " 2   citric acid           1599 non-null   float64\n",
      " 3   residual sugar        1599 non-null   float64\n",
      " 4   chlorides             1599 non-null   float64\n",
      " 5   free sulfur dioxide   1599 non-null   float64\n",
      " 6   total sulfur dioxide  1599 non-null   float64\n",
      " 7   density               1599 non-null   float64\n",
      " 8   pH                    1599 non-null   float64\n",
      " 9   sulphates             1599 non-null   float64\n",
      " 10  alcohol               1599 non-null   float64\n",
      " 11  quality               1599 non-null   object \n",
      "dtypes: float64(11), object(1)\n",
      "memory usage: 150.0+ KB\n"
     ]
    }
   ],
   "source": [
    "data.info()"
   ]
  },
  {
   "cell_type": "code",
   "execution_count": 200,
   "metadata": {},
   "outputs": [
    {
     "data": {
      "text/html": [
       "<div>\n",
       "<style scoped>\n",
       "    .dataframe tbody tr th:only-of-type {\n",
       "        vertical-align: middle;\n",
       "    }\n",
       "\n",
       "    .dataframe tbody tr th {\n",
       "        vertical-align: top;\n",
       "    }\n",
       "\n",
       "    .dataframe thead th {\n",
       "        text-align: right;\n",
       "    }\n",
       "</style>\n",
       "<table border=\"1\" class=\"dataframe\">\n",
       "  <thead>\n",
       "    <tr style=\"text-align: right;\">\n",
       "      <th></th>\n",
       "      <th>fixed acidity</th>\n",
       "      <th>volatile acidity</th>\n",
       "      <th>citric acid</th>\n",
       "      <th>residual sugar</th>\n",
       "      <th>chlorides</th>\n",
       "      <th>free sulfur dioxide</th>\n",
       "      <th>total sulfur dioxide</th>\n",
       "      <th>density</th>\n",
       "      <th>pH</th>\n",
       "      <th>sulphates</th>\n",
       "      <th>alcohol</th>\n",
       "      <th>quality</th>\n",
       "    </tr>\n",
       "  </thead>\n",
       "  <tbody>\n",
       "    <tr>\n",
       "      <th>0</th>\n",
       "      <td>7.4</td>\n",
       "      <td>0.70</td>\n",
       "      <td>0.00</td>\n",
       "      <td>1.9</td>\n",
       "      <td>0.076</td>\n",
       "      <td>11.0</td>\n",
       "      <td>34.0</td>\n",
       "      <td>0.9978</td>\n",
       "      <td>3.51</td>\n",
       "      <td>0.56</td>\n",
       "      <td>9.4</td>\n",
       "      <td>0.0</td>\n",
       "    </tr>\n",
       "    <tr>\n",
       "      <th>1</th>\n",
       "      <td>7.8</td>\n",
       "      <td>0.88</td>\n",
       "      <td>0.00</td>\n",
       "      <td>2.6</td>\n",
       "      <td>0.098</td>\n",
       "      <td>25.0</td>\n",
       "      <td>67.0</td>\n",
       "      <td>0.9968</td>\n",
       "      <td>3.20</td>\n",
       "      <td>0.68</td>\n",
       "      <td>9.8</td>\n",
       "      <td>0.0</td>\n",
       "    </tr>\n",
       "    <tr>\n",
       "      <th>2</th>\n",
       "      <td>7.8</td>\n",
       "      <td>0.76</td>\n",
       "      <td>0.04</td>\n",
       "      <td>2.3</td>\n",
       "      <td>0.092</td>\n",
       "      <td>15.0</td>\n",
       "      <td>54.0</td>\n",
       "      <td>0.9970</td>\n",
       "      <td>3.26</td>\n",
       "      <td>0.65</td>\n",
       "      <td>9.8</td>\n",
       "      <td>0.0</td>\n",
       "    </tr>\n",
       "    <tr>\n",
       "      <th>3</th>\n",
       "      <td>11.2</td>\n",
       "      <td>0.28</td>\n",
       "      <td>0.56</td>\n",
       "      <td>1.9</td>\n",
       "      <td>0.075</td>\n",
       "      <td>17.0</td>\n",
       "      <td>60.0</td>\n",
       "      <td>0.9980</td>\n",
       "      <td>3.16</td>\n",
       "      <td>0.58</td>\n",
       "      <td>9.8</td>\n",
       "      <td>1.0</td>\n",
       "    </tr>\n",
       "    <tr>\n",
       "      <th>4</th>\n",
       "      <td>7.4</td>\n",
       "      <td>0.70</td>\n",
       "      <td>0.00</td>\n",
       "      <td>1.9</td>\n",
       "      <td>0.076</td>\n",
       "      <td>11.0</td>\n",
       "      <td>34.0</td>\n",
       "      <td>0.9978</td>\n",
       "      <td>3.51</td>\n",
       "      <td>0.56</td>\n",
       "      <td>9.4</td>\n",
       "      <td>0.0</td>\n",
       "    </tr>\n",
       "  </tbody>\n",
       "</table>\n",
       "</div>"
      ],
      "text/plain": [
       "   fixed acidity  volatile acidity  citric acid  residual sugar  chlorides  \\\n",
       "0            7.4              0.70         0.00             1.9      0.076   \n",
       "1            7.8              0.88         0.00             2.6      0.098   \n",
       "2            7.8              0.76         0.04             2.3      0.092   \n",
       "3           11.2              0.28         0.56             1.9      0.075   \n",
       "4            7.4              0.70         0.00             1.9      0.076   \n",
       "\n",
       "   free sulfur dioxide  total sulfur dioxide  density    pH  sulphates  \\\n",
       "0                 11.0                  34.0   0.9978  3.51       0.56   \n",
       "1                 25.0                  67.0   0.9968  3.20       0.68   \n",
       "2                 15.0                  54.0   0.9970  3.26       0.65   \n",
       "3                 17.0                  60.0   0.9980  3.16       0.58   \n",
       "4                 11.0                  34.0   0.9978  3.51       0.56   \n",
       "\n",
       "   alcohol  quality  \n",
       "0      9.4      0.0  \n",
       "1      9.8      0.0  \n",
       "2      9.8      0.0  \n",
       "3      9.8      1.0  \n",
       "4      9.4      0.0  "
      ]
     },
     "execution_count": 200,
     "metadata": {},
     "output_type": "execute_result"
    }
   ],
   "source": [
    "# replace good/bad with number 1/0\n",
    "# Defining the map function\n",
    "#def binary_map(x):\n",
    "#    return x.map({'good': 1.0, \"bad\": 0.0})\n",
    "\n",
    "\n",
    "#data[[\"quality\"]] = data[[\"quality\"]].apply(binary_map)\n",
    "\n",
    "\n",
    "data[[\"quality\"]] = data[[\"quality\"]].replace({'good': 1.0, \"bad\": 0.0})\n",
    "data.head()"
   ]
  },
  {
   "cell_type": "code",
   "execution_count": 201,
   "metadata": {},
   "outputs": [
    {
     "data": {
      "text/plain": [
       "fixed acidity           0\n",
       "volatile acidity        0\n",
       "citric acid             0\n",
       "residual sugar          0\n",
       "chlorides               0\n",
       "free sulfur dioxide     0\n",
       "total sulfur dioxide    0\n",
       "density                 0\n",
       "pH                      0\n",
       "sulphates               0\n",
       "alcohol                 0\n",
       "quality                 0\n",
       "dtype: int64"
      ]
     },
     "execution_count": 201,
     "metadata": {},
     "output_type": "execute_result"
    }
   ],
   "source": [
    "# check for missing values\n",
    "data.isnull().sum()"
   ]
  },
  {
   "cell_type": "code",
   "execution_count": 202,
   "metadata": {},
   "outputs": [
    {
     "data": {
      "image/png": "[encoded data removed]",
      "text/plain": [
       "<Figure size 1440x720 with 2 Axes>"
      ]
     },
     "metadata": {
      "needs_background": "light"
     },
     "output_type": "display_data"
    }
   ],
   "source": [
    "import matplotlib.pyplot as plt\n",
    "import seaborn as sns\n",
    "%matplotlib inline\n",
    "# Let's see the correlation matrix \n",
    "plt.figure(figsize = (20,10))        # Size of the figure\n",
    "sns.heatmap(data.corr(),annot = True)\n",
    "plt.show()"
   ]
  },
  {
   "cell_type": "code",
   "execution_count": 203,
   "metadata": {},
   "outputs": [],
   "source": [
    "data = data.drop([\"fixed acidity\"],axis = 1)"
   ]
  },
  {
   "cell_type": "code",
   "execution_count": 204,
   "metadata": {},
   "outputs": [
    {
     "name": "stdout",
     "output_type": "stream",
     "text": [
      "<class 'pandas.core.frame.DataFrame'>\n",
      "RangeIndex: 1599 entries, 0 to 1598\n",
      "Data columns (total 10 columns):\n",
      " #   Column                Non-Null Count  Dtype  \n",
      "---  ------                --------------  -----  \n",
      " 0   volatile acidity      1599 non-null   float64\n",
      " 1   citric acid           1599 non-null   float64\n",
      " 2   residual sugar        1599 non-null   float64\n",
      " 3   chlorides             1599 non-null   float64\n",
      " 4   free sulfur dioxide   1599 non-null   float64\n",
      " 5   total sulfur dioxide  1599 non-null   float64\n",
      " 6   density               1599 non-null   float64\n",
      " 7   pH                    1599 non-null   float64\n",
      " 8   sulphates             1599 non-null   float64\n",
      " 9   alcohol               1599 non-null   float64\n",
      "dtypes: float64(10)\n",
      "memory usage: 125.0 KB\n"
     ]
    }
   ],
   "source": [
    "# separate label and features\n",
    "Y = data['quality']\n",
    "data = data.drop(\"quality\",axis=1)\n",
    "data.info()"
   ]
  },
  {
   "cell_type": "code",
   "execution_count": 205,
   "metadata": {},
   "outputs": [],
   "source": [
    "from sklearn.model_selection import train_test_split"
   ]
  },
  {
   "cell_type": "code",
   "execution_count": 206,
   "metadata": {},
   "outputs": [
    {
     "data": {
      "text/html": [
       "<div>\n",
       "<style scoped>\n",
       "    .dataframe tbody tr th:only-of-type {\n",
       "        vertical-align: middle;\n",
       "    }\n",
       "\n",
       "    .dataframe tbody tr th {\n",
       "        vertical-align: top;\n",
       "    }\n",
       "\n",
       "    .dataframe thead th {\n",
       "        text-align: right;\n",
       "    }\n",
       "</style>\n",
       "<table border=\"1\" class=\"dataframe\">\n",
       "  <thead>\n",
       "    <tr style=\"text-align: right;\">\n",
       "      <th></th>\n",
       "      <th>volatile acidity</th>\n",
       "      <th>citric acid</th>\n",
       "      <th>residual sugar</th>\n",
       "      <th>chlorides</th>\n",
       "      <th>free sulfur dioxide</th>\n",
       "      <th>total sulfur dioxide</th>\n",
       "      <th>density</th>\n",
       "      <th>pH</th>\n",
       "      <th>sulphates</th>\n",
       "      <th>alcohol</th>\n",
       "    </tr>\n",
       "  </thead>\n",
       "  <tbody>\n",
       "    <tr>\n",
       "      <th>858</th>\n",
       "      <td>0.28</td>\n",
       "      <td>0.47</td>\n",
       "      <td>1.70</td>\n",
       "      <td>0.054</td>\n",
       "      <td>17.0</td>\n",
       "      <td>32.0</td>\n",
       "      <td>0.99686</td>\n",
       "      <td>3.15</td>\n",
       "      <td>0.67</td>\n",
       "      <td>10.6</td>\n",
       "    </tr>\n",
       "    <tr>\n",
       "      <th>654</th>\n",
       "      <td>0.47</td>\n",
       "      <td>0.47</td>\n",
       "      <td>2.40</td>\n",
       "      <td>0.074</td>\n",
       "      <td>7.0</td>\n",
       "      <td>29.0</td>\n",
       "      <td>0.99790</td>\n",
       "      <td>3.08</td>\n",
       "      <td>0.46</td>\n",
       "      <td>9.5</td>\n",
       "    </tr>\n",
       "    <tr>\n",
       "      <th>721</th>\n",
       "      <td>0.48</td>\n",
       "      <td>0.24</td>\n",
       "      <td>2.85</td>\n",
       "      <td>0.094</td>\n",
       "      <td>35.0</td>\n",
       "      <td>106.0</td>\n",
       "      <td>0.99820</td>\n",
       "      <td>3.10</td>\n",
       "      <td>0.53</td>\n",
       "      <td>9.2</td>\n",
       "    </tr>\n",
       "    <tr>\n",
       "      <th>176</th>\n",
       "      <td>0.38</td>\n",
       "      <td>0.21</td>\n",
       "      <td>2.00</td>\n",
       "      <td>0.080</td>\n",
       "      <td>7.0</td>\n",
       "      <td>35.0</td>\n",
       "      <td>0.99610</td>\n",
       "      <td>3.33</td>\n",
       "      <td>0.47</td>\n",
       "      <td>9.5</td>\n",
       "    </tr>\n",
       "    <tr>\n",
       "      <th>692</th>\n",
       "      <td>0.49</td>\n",
       "      <td>0.51</td>\n",
       "      <td>2.00</td>\n",
       "      <td>0.422</td>\n",
       "      <td>16.0</td>\n",
       "      <td>62.0</td>\n",
       "      <td>0.99790</td>\n",
       "      <td>3.03</td>\n",
       "      <td>1.17</td>\n",
       "      <td>9.0</td>\n",
       "    </tr>\n",
       "  </tbody>\n",
       "</table>\n",
       "</div>"
      ],
      "text/plain": [
       "     volatile acidity  citric acid  residual sugar  chlorides  \\\n",
       "858              0.28         0.47            1.70      0.054   \n",
       "654              0.47         0.47            2.40      0.074   \n",
       "721              0.48         0.24            2.85      0.094   \n",
       "176              0.38         0.21            2.00      0.080   \n",
       "692              0.49         0.51            2.00      0.422   \n",
       "\n",
       "     free sulfur dioxide  total sulfur dioxide  density    pH  sulphates  \\\n",
       "858                 17.0                  32.0  0.99686  3.15       0.67   \n",
       "654                  7.0                  29.0  0.99790  3.08       0.46   \n",
       "721                 35.0                 106.0  0.99820  3.10       0.53   \n",
       "176                  7.0                  35.0  0.99610  3.33       0.47   \n",
       "692                 16.0                  62.0  0.99790  3.03       1.17   \n",
       "\n",
       "     alcohol  \n",
       "858     10.6  \n",
       "654      9.5  \n",
       "721      9.2  \n",
       "176      9.5  \n",
       "692      9.0  "
      ]
     },
     "execution_count": 206,
     "metadata": {},
     "output_type": "execute_result"
    }
   ],
   "source": [
    "X_train_split, X_test_split,Y_train_split, Y_test_split = train_test_split(data,Y,train_size=0.7,test_size=0.3,random_state=100)\n",
    "X_train_split.head()"
   ]
  },
  {
   "cell_type": "code",
   "execution_count": 207,
   "metadata": {},
   "outputs": [],
   "source": [
    "from sklearn.preprocessing import StandardScaler"
   ]
  },
  {
   "cell_type": "code",
   "execution_count": 208,
   "metadata": {},
   "outputs": [
    {
     "name": "stdout",
     "output_type": "stream",
     "text": [
      "['volatile acidity', 'citric acid', 'residual sugar', 'chlorides', 'free sulfur dioxide', 'total sulfur dioxide', 'density', 'pH', 'sulphates', 'alcohol']\n"
     ]
    }
   ],
   "source": [
    "cols = list(X_train_split.columns)\n",
    "print(cols)"
   ]
  },
  {
   "cell_type": "code",
   "execution_count": 209,
   "metadata": {},
   "outputs": [
    {
     "name": "stderr",
     "output_type": "stream",
     "text": [
      "/Users/yashwanthkumar/opt/anaconda3/envs/mlpy36/lib/python3.6/site-packages/ipykernel_launcher.py:2: SettingWithCopyWarning: \n",
      "A value is trying to be set on a copy of a slice from a DataFrame.\n",
      "Try using .loc[row_indexer,col_indexer] = value instead\n",
      "\n",
      "See the caveats in the documentation: https://pandas.pydata.org/pandas-docs/stable/user_guide/indexing.html#returning-a-view-versus-a-copy\n",
      "  \n",
      "/Users/yashwanthkumar/opt/anaconda3/envs/mlpy36/lib/python3.6/site-packages/pandas/core/frame.py:3072: SettingWithCopyWarning: \n",
      "A value is trying to be set on a copy of a slice from a DataFrame\n",
      "\n",
      "See the caveats in the documentation: https://pandas.pydata.org/pandas-docs/stable/user_guide/indexing.html#returning-a-view-versus-a-copy\n",
      "  self.iloc._setitem_with_indexer((slice(None), indexer), value)\n",
      "/Users/yashwanthkumar/opt/anaconda3/envs/mlpy36/lib/python3.6/site-packages/pandas/core/frame.py:3037: SettingWithCopyWarning: \n",
      "A value is trying to be set on a copy of a slice from a DataFrame\n",
      "\n",
      "See the caveats in the documentation: https://pandas.pydata.org/pandas-docs/stable/user_guide/indexing.html#returning-a-view-versus-a-copy\n",
      "  self._setitem_array(key, value)\n"
     ]
    },
    {
     "data": {
      "text/html": [
       "<div>\n",
       "<style scoped>\n",
       "    .dataframe tbody tr th:only-of-type {\n",
       "        vertical-align: middle;\n",
       "    }\n",
       "\n",
       "    .dataframe tbody tr th {\n",
       "        vertical-align: top;\n",
       "    }\n",
       "\n",
       "    .dataframe thead th {\n",
       "        text-align: right;\n",
       "    }\n",
       "</style>\n",
       "<table border=\"1\" class=\"dataframe\">\n",
       "  <thead>\n",
       "    <tr style=\"text-align: right;\">\n",
       "      <th></th>\n",
       "      <th>volatile acidity</th>\n",
       "      <th>citric acid</th>\n",
       "      <th>residual sugar</th>\n",
       "      <th>chlorides</th>\n",
       "      <th>free sulfur dioxide</th>\n",
       "      <th>total sulfur dioxide</th>\n",
       "      <th>density</th>\n",
       "      <th>pH</th>\n",
       "      <th>sulphates</th>\n",
       "      <th>alcohol</th>\n",
       "    </tr>\n",
       "  </thead>\n",
       "  <tbody>\n",
       "    <tr>\n",
       "      <th>858</th>\n",
       "      <td>-1.408936</td>\n",
       "      <td>1.019093</td>\n",
       "      <td>-0.567938</td>\n",
       "      <td>-0.711893</td>\n",
       "      <td>0.107203</td>\n",
       "      <td>-0.434423</td>\n",
       "      <td>0.050325</td>\n",
       "      <td>-1.012790</td>\n",
       "      <td>0.082530</td>\n",
       "      <td>0.197850</td>\n",
       "    </tr>\n",
       "    <tr>\n",
       "      <th>654</th>\n",
       "      <td>-0.360647</td>\n",
       "      <td>1.019093</td>\n",
       "      <td>-0.097280</td>\n",
       "      <td>-0.303512</td>\n",
       "      <td>-0.844865</td>\n",
       "      <td>-0.527005</td>\n",
       "      <td>0.595992</td>\n",
       "      <td>-1.457849</td>\n",
       "      <td>-1.188356</td>\n",
       "      <td>-0.844746</td>\n",
       "    </tr>\n",
       "    <tr>\n",
       "      <th>721</th>\n",
       "      <td>-0.305474</td>\n",
       "      <td>-0.145527</td>\n",
       "      <td>0.205286</td>\n",
       "      <td>0.104869</td>\n",
       "      <td>1.820927</td>\n",
       "      <td>1.849276</td>\n",
       "      <td>0.753396</td>\n",
       "      <td>-1.330689</td>\n",
       "      <td>-0.764728</td>\n",
       "      <td>-1.129091</td>\n",
       "    </tr>\n",
       "    <tr>\n",
       "      <th>176</th>\n",
       "      <td>-0.857205</td>\n",
       "      <td>-0.297433</td>\n",
       "      <td>-0.366228</td>\n",
       "      <td>-0.180998</td>\n",
       "      <td>-0.844865</td>\n",
       "      <td>-0.341840</td>\n",
       "      <td>-0.348431</td>\n",
       "      <td>0.131648</td>\n",
       "      <td>-1.127838</td>\n",
       "      <td>-0.844746</td>\n",
       "    </tr>\n",
       "    <tr>\n",
       "      <th>692</th>\n",
       "      <td>-0.250301</td>\n",
       "      <td>1.221635</td>\n",
       "      <td>-0.366228</td>\n",
       "      <td>6.802317</td>\n",
       "      <td>0.011997</td>\n",
       "      <td>0.491401</td>\n",
       "      <td>0.595992</td>\n",
       "      <td>-1.775749</td>\n",
       "      <td>3.108450</td>\n",
       "      <td>-1.318654</td>\n",
       "    </tr>\n",
       "  </tbody>\n",
       "</table>\n",
       "</div>"
      ],
      "text/plain": [
       "     volatile acidity  citric acid  residual sugar  chlorides  \\\n",
       "858         -1.408936     1.019093       -0.567938  -0.711893   \n",
       "654         -0.360647     1.019093       -0.097280  -0.303512   \n",
       "721         -0.305474    -0.145527        0.205286   0.104869   \n",
       "176         -0.857205    -0.297433       -0.366228  -0.180998   \n",
       "692         -0.250301     1.221635       -0.366228   6.802317   \n",
       "\n",
       "     free sulfur dioxide  total sulfur dioxide   density        pH  sulphates  \\\n",
       "858             0.107203             -0.434423  0.050325 -1.012790   0.082530   \n",
       "654            -0.844865             -0.527005  0.595992 -1.457849  -1.188356   \n",
       "721             1.820927              1.849276  0.753396 -1.330689  -0.764728   \n",
       "176            -0.844865             -0.341840 -0.348431  0.131648  -1.127838   \n",
       "692             0.011997              0.491401  0.595992 -1.775749   3.108450   \n",
       "\n",
       "      alcohol  \n",
       "858  0.197850  \n",
       "654 -0.844746  \n",
       "721 -1.129091  \n",
       "176 -0.844746  \n",
       "692 -1.318654  "
      ]
     },
     "execution_count": 209,
     "metadata": {},
     "output_type": "execute_result"
    }
   ],
   "source": [
    "scaler = StandardScaler()\n",
    "X_train_split[cols] = scaler.fit_transform(X_train_split[cols])\n",
    "X_train_split.head()"
   ]
  },
  {
   "cell_type": "code",
   "execution_count": 88,
   "metadata": {},
   "outputs": [],
   "source": []
  },
  {
   "cell_type": "code",
   "execution_count": null,
   "metadata": {},
   "outputs": [],
   "source": []
  },
  {
   "cell_type": "code",
   "execution_count": 210,
   "metadata": {},
   "outputs": [],
   "source": [
    "import statsmodels.api as sm"
   ]
  },
  {
   "cell_type": "code",
   "execution_count": 211,
   "metadata": {},
   "outputs": [
    {
     "data": {
      "text/plain": [
       "53.529937444146555"
      ]
     },
     "execution_count": 211,
     "metadata": {},
     "output_type": "execute_result"
    }
   ],
   "source": [
    "sum(Y_train_split)/len(Y_train_split)*100"
   ]
  },
  {
   "cell_type": "code",
   "execution_count": 212,
   "metadata": {},
   "outputs": [
    {
     "data": {
      "text/html": [
       "<table class=\"simpletable\">\n",
       "<caption>Generalized Linear Model Regression Results</caption>\n",
       "<tr>\n",
       "  <th>Dep. Variable:</th>        <td>quality</td>     <th>  No. Observations:  </th>  <td>  1119</td> \n",
       "</tr>\n",
       "<tr>\n",
       "  <th>Model:</th>                  <td>GLM</td>       <th>  Df Residuals:      </th>  <td>  1108</td> \n",
       "</tr>\n",
       "<tr>\n",
       "  <th>Model Family:</th>        <td>Binomial</td>     <th>  Df Model:          </th>  <td>    10</td> \n",
       "</tr>\n",
       "<tr>\n",
       "  <th>Link Function:</th>         <td>logit</td>      <th>  Scale:             </th> <td>  1.0000</td>\n",
       "</tr>\n",
       "<tr>\n",
       "  <th>Method:</th>                <td>IRLS</td>       <th>  Log-Likelihood:    </th> <td> -572.39</td>\n",
       "</tr>\n",
       "<tr>\n",
       "  <th>Date:</th>            <td>Thu, 21 Jan 2021</td> <th>  Deviance:          </th> <td>  1144.8</td>\n",
       "</tr>\n",
       "<tr>\n",
       "  <th>Time:</th>                <td>11:39:31</td>     <th>  Pearson chi2:      </th> <td>1.09e+03</td>\n",
       "</tr>\n",
       "<tr>\n",
       "  <th>No. Iterations:</th>          <td>5</td>        <th>                     </th>     <td> </td>   \n",
       "</tr>\n",
       "<tr>\n",
       "  <th>Covariance Type:</th>     <td>nonrobust</td>    <th>                     </th>     <td> </td>   \n",
       "</tr>\n",
       "</table>\n",
       "<table class=\"simpletable\">\n",
       "<tr>\n",
       "            <td></td>              <th>coef</th>     <th>std err</th>      <th>z</th>      <th>P>|z|</th>  <th>[0.025</th>    <th>0.975]</th>  \n",
       "</tr>\n",
       "<tr>\n",
       "  <th>const</th>                <td>    0.2601</td> <td>    0.076</td> <td>    3.442</td> <td> 0.001</td> <td>    0.112</td> <td>    0.408</td>\n",
       "</tr>\n",
       "<tr>\n",
       "  <th>volatile acidity</th>     <td>   -0.5687</td> <td>    0.102</td> <td>   -5.554</td> <td> 0.000</td> <td>   -0.769</td> <td>   -0.368</td>\n",
       "</tr>\n",
       "<tr>\n",
       "  <th>citric acid</th>          <td>   -0.2233</td> <td>    0.122</td> <td>   -1.830</td> <td> 0.067</td> <td>   -0.462</td> <td>    0.016</td>\n",
       "</tr>\n",
       "<tr>\n",
       "  <th>residual sugar</th>       <td>    0.1314</td> <td>    0.083</td> <td>    1.577</td> <td> 0.115</td> <td>   -0.032</td> <td>    0.295</td>\n",
       "</tr>\n",
       "<tr>\n",
       "  <th>chlorides</th>            <td>   -0.2153</td> <td>    0.088</td> <td>   -2.446</td> <td> 0.014</td> <td>   -0.388</td> <td>   -0.043</td>\n",
       "</tr>\n",
       "<tr>\n",
       "  <th>free sulfur dioxide</th>  <td>    0.1956</td> <td>    0.105</td> <td>    1.862</td> <td> 0.063</td> <td>   -0.010</td> <td>    0.402</td>\n",
       "</tr>\n",
       "<tr>\n",
       "  <th>total sulfur dioxide</th> <td>   -0.5808</td> <td>    0.112</td> <td>   -5.172</td> <td> 0.000</td> <td>   -0.801</td> <td>   -0.361</td>\n",
       "</tr>\n",
       "<tr>\n",
       "  <th>density</th>              <td>    0.0044</td> <td>    0.118</td> <td>    0.037</td> <td> 0.970</td> <td>   -0.227</td> <td>    0.236</td>\n",
       "</tr>\n",
       "<tr>\n",
       "  <th>pH</th>                   <td>   -0.1984</td> <td>    0.092</td> <td>   -2.168</td> <td> 0.030</td> <td>   -0.378</td> <td>   -0.019</td>\n",
       "</tr>\n",
       "<tr>\n",
       "  <th>sulphates</th>            <td>    0.4578</td> <td>    0.093</td> <td>    4.945</td> <td> 0.000</td> <td>    0.276</td> <td>    0.639</td>\n",
       "</tr>\n",
       "<tr>\n",
       "  <th>alcohol</th>              <td>    1.0495</td> <td>    0.121</td> <td>    8.707</td> <td> 0.000</td> <td>    0.813</td> <td>    1.286</td>\n",
       "</tr>\n",
       "</table>"
      ],
      "text/plain": [
       "<class 'statsmodels.iolib.summary.Summary'>\n",
       "\"\"\"\n",
       "                 Generalized Linear Model Regression Results                  \n",
       "==============================================================================\n",
       "Dep. Variable:                quality   No. Observations:                 1119\n",
       "Model:                            GLM   Df Residuals:                     1108\n",
       "Model Family:                Binomial   Df Model:                           10\n",
       "Link Function:                  logit   Scale:                          1.0000\n",
       "Method:                          IRLS   Log-Likelihood:                -572.39\n",
       "Date:                Thu, 21 Jan 2021   Deviance:                       1144.8\n",
       "Time:                        11:39:31   Pearson chi2:                 1.09e+03\n",
       "No. Iterations:                     5                                         \n",
       "Covariance Type:            nonrobust                                         \n",
       "========================================================================================\n",
       "                           coef    std err          z      P>|z|      [0.025      0.975]\n",
       "----------------------------------------------------------------------------------------\n",
       "const                    0.2601      0.076      3.442      0.001       0.112       0.408\n",
       "volatile acidity        -0.5687      0.102     -5.554      0.000      -0.769      -0.368\n",
       "citric acid             -0.2233      0.122     -1.830      0.067      -0.462       0.016\n",
       "residual sugar           0.1314      0.083      1.577      0.115      -0.032       0.295\n",
       "chlorides               -0.2153      0.088     -2.446      0.014      -0.388      -0.043\n",
       "free sulfur dioxide      0.1956      0.105      1.862      0.063      -0.010       0.402\n",
       "total sulfur dioxide    -0.5808      0.112     -5.172      0.000      -0.801      -0.361\n",
       "density                  0.0044      0.118      0.037      0.970      -0.227       0.236\n",
       "pH                      -0.1984      0.092     -2.168      0.030      -0.378      -0.019\n",
       "sulphates                0.4578      0.093      4.945      0.000       0.276       0.639\n",
       "alcohol                  1.0495      0.121      8.707      0.000       0.813       1.286\n",
       "========================================================================================\n",
       "\"\"\""
      ]
     },
     "execution_count": 212,
     "metadata": {},
     "output_type": "execute_result"
    }
   ],
   "source": [
    "X_train_split_sm = sm.add_constant(X_train_split)\n",
    "logistic_reg = sm.GLM(Y_train_split,X_train_split_sm,sm.families.Binomial())\n",
    "model = logistic_reg.fit()\n",
    "model.summary()"
   ]
  },
  {
   "cell_type": "code",
   "execution_count": 161,
   "metadata": {},
   "outputs": [
    {
     "name": "stdout",
     "output_type": "stream",
     "text": [
      "[1. 0. 0. ... 0. 0. 1.]\n",
      "[0.8770975970546125, 0.25328427909575363, 0.16481080459905562, 0.35271766428486595, 0.21652388576806844, 0.9250408937782337, 0.8978405478250069, 0.38487853521912024, 0.8361004046722175, 0.42229626298998274, 0.3694457364754062, 0.19747265558707192, 0.9564576285413231, 0.4003832290652959, 0.2656363580519564, 0.16748377503854012, 0.34765859282678757, 0.9614604326321063, 0.12175956258666312, 0.3523004039729188, 0.14978373168395506, 0.08939831378066686, 0.797717364878062, 0.2242413162036468, 0.3296728873006966, 0.5203380816503883, 0.6149766459694849, 0.9540143343581373, 0.1939105495542325, 0.617708165199027, 0.2832695014324908, 0.3744279026736699, 0.90800477931649, 0.9056464276168394, 0.858797862603261, 0.7841689813523787, 0.15803993545973374, 0.4156480973826723, 0.8383836302513203, 0.8156397419529259, 0.8304992150680516, 0.7848104745959139, 0.3421677479821783, 0.19825282548792883, 0.9518716309725581, 0.9136512554866143, 0.9504323825258145, 0.973846765255369, 0.7985948666507854, 0.5695646282519873, 0.7890338461688817, 0.5055198829594556, 0.14151145772088003, 0.8199453963350795, 0.8692435516921112, 0.9296959484055266, 0.3939378633514383, 0.22565116970206775, 0.9099517475397009, 0.24194983993943853, 0.12175956258666312, 0.8086941593773667, 0.9578507550842816, 0.29050706872261967, 0.21404625546000064, 0.07631641208719733, 0.8908443381762435, 0.11697810873493097, 0.4932143272113151, 0.31979973989593347, 0.6407919995089201, 0.8343032110463409, 0.9901230648083313, 0.6603087198911404, 0.508902746815827, 0.86756873959438, 0.41476062463759794, 0.7305764172121919, 0.8036924943779613, 0.5461820612959731, 0.17171118853090037, 0.19404538625931467, 0.7311707599501137, 0.06177657562036866, 0.9000388638726358, 0.8777011743003164, 0.1661918512689996, 0.7058113188033311, 0.9473686578408071, 0.5550877501598709, 0.7658396969648171, 0.7384982591311496, 0.8407815548862222, 0.3564659879873343, 0.948852380555741, 0.33211169292940135, 0.7684854201692662, 0.18225472789081157, 0.2381059749598369, 0.2686360133421062, 0.45569914436801107, 0.9396918261214577, 0.7917647698270128, 0.29433086529634384, 0.9667246256561408, 0.7378609921193177, 0.19543257734347158, 0.21616410797321364, 0.5874597244102527, 0.15689491218170049, 0.8383836302513203, 0.9898326688808825, 0.2295529992551292, 0.5430083656068918, 0.7948599168993694, 0.4745718881336846, 0.2395004302147577, 0.8966696961809232, 0.21998303454982354, 0.3967976160063922, 0.9654777799681412, 0.45569914436801107, 0.7742777223326434, 0.31611272835438614, 0.30728839209513575, 0.28743595625993745, 0.40946248380785294, 0.09341014358980546, 0.741821391137926, 0.9613903463700232, 0.185016390980144, 0.6480136923245812, 0.7360935958666845, 0.11834330088060738, 0.5687621022678242, 0.4665812862481242, 0.5259712891000258, 0.7586430432045038, 0.1171278865974096, 0.9360457531576849, 0.47527517391086355, 0.8709013165830564, 0.9260204369296755, 0.37746701058025484, 0.6053693034732361, 0.6305566215907527, 0.382461154159782, 0.26627586406613, 0.9532864098569722, 0.39655142864479687, 0.35297337216458735, 0.7052882784497713, 0.7452988151191572, 0.6404805684713225, 0.5931371895386819, 0.8894564521763128, 0.4353746815711225, 0.8193400248717254, 0.22812529068609197, 0.6226674033656384, 0.8967779767979487, 0.3035179775884545, 0.3235714450139132, 0.24089942702901318, 0.40174304218894374, 0.9098086139560515, 0.16530938394706077, 0.8370592720817844, 0.9360457531576849, 0.947851128610448, 0.5394571291903809, 0.15935848818599033, 0.9101874598207301, 0.07660638471284886, 0.2157776814981329, 0.6136761581978162, 0.26777499289790124, 0.834286634265452, 0.26324356479083044, 0.13312534836532122, 0.8880654443589447, 0.6466314059176473, 0.411273002278441, 0.06139543271862953, 0.292103695900584, 0.5595051690020871, 0.9125390646182667, 0.14289675394301063, 0.20467962536546097, 0.5493775114868179, 0.4943392375180176, 0.2719538166726901, 0.8578278712083381, 0.9423766675580114, 0.18497417834939103, 0.6174368020988505, 0.17769698655730615, 0.42251950395528104, 0.8050189124393573, 0.33230912615633346, 0.49586551020467995, 0.12631789951791153, 0.2832695014324908, 0.934541124375133, 0.2562574143751746, 0.5040265745126973, 0.25579029869385644, 0.4849011780730126, 0.24803923198611444, 0.5112019218975506, 0.799173361118391, 0.6704660459820958, 0.5891350717560685, 0.3603042072779674, 0.9684450854348442, 0.0901247061763745, 0.07899769829864037, 0.6047727359341011, 0.22803134701089323, 0.5431144757340042, 0.9484629311541863, 0.15860438923272788, 0.5979355723390878, 0.46801241799740745, 0.1709165883233093, 0.8683701290007627, 0.9314309256477257, 0.6708252194104913, 0.9130718123023286, 0.33563894997209714, 0.2794136841876237, 0.03234403787324059, 0.13765214679196217, 0.14276644766262564, 0.3785830387466973, 0.6690593948773662, 0.3523004039729188, 0.14298114965898312, 0.08197948003774766, 0.6778063748800104, 0.6918336799504087, 0.031208799688921773, 0.9406373613901722, 0.36282790576011614, 0.24822481718743877, 0.7996998869654489, 0.36140948828632125, 0.7586430432045038, 0.6543675484551404, 0.3144939232966775, 0.18563003018708332, 0.38001483174745365, 0.6373007482169849, 0.347617908890697, 0.7630921992745362, 0.6287776331288198, 0.8968599611468986, 0.7985948666507854, 0.39861370160488135, 0.30411804076873017, 0.5022850321450888, 0.34125734941576025, 0.2742206396841001, 0.10317665880724895, 0.20027224366671773, 0.9461530396419847, 0.8497969074536862, 0.6104521394591245, 0.9687823476869757, 0.14305953563437981, 0.7166004930568622, 0.06188013847376893, 0.07396964844971338, 0.49542958434698525, 0.33964091334657676, 0.8951355220663707, 0.20981866484513675, 0.9499444800939593, 0.06796031381438225, 0.641009998550724, 0.5116015590534235, 0.9504409399060918, 0.6565115117372696, 0.8683701290007627, 0.1630120923674849, 0.30796436045906683, 0.5971675107591384, 0.6434333470239635, 0.3246482578362263, 0.621752902436267, 0.27563644238623375, 0.8337650618931077, 0.4995411424252358, 0.9158048920981006, 0.5195037859735911, 0.621373499736731, 0.08199332701096679, 0.8725594861536378, 0.8941344094303243, 0.96066170244479, 0.8844530063418095, 0.23669712643883217, 0.16764794767976868, 0.7699775959824166, 0.2284159070090988, 0.6343120884064748, 0.4403716995181161, 0.6198505405931096, 0.9257859058831887, 0.9830693184600349, 0.9688758998879012, 0.8977899178635539, 0.954799667791199, 0.08849515952559776, 0.8956774502748247, 0.9640576881920948, 0.841035990567272, 0.36138342840860327, 0.9595849257132677, 0.43853272967757634, 0.9294045293360065, 0.9246294634464137, 0.8693967143530779, 0.5304594576437417, 0.6797128303632716, 0.9455809116977069, 0.294062400850113, 0.6171429339952388, 0.5807641680361866, 0.7480678772291709, 0.1310568556916107, 0.6797128303632716, 0.17141097509708134, 0.8518492364982633, 0.6437851894914182, 0.717591242952354, 0.07121085942056798, 0.856568543658026, 0.13378277529740606, 0.8152744314549593, 0.26902444588661945, 0.7530077978045366, 0.9507187032747049, 0.352547668966687, 0.5762359223181275, 0.5408340302534305, 0.5124556903725906, 0.45404384155836, 0.709287975816316, 0.7071042859769334, 0.1467577606110508, 0.14120710559054783, 0.18934659152216066, 0.9277746246974246, 0.6455616887753685, 0.21077673797010393, 0.49965951547988025, 0.3033851041019639, 0.11095980164613276, 0.6746479819491609, 0.9826648263771617, 0.4820106055437105, 0.1459357077331089, 0.9414571230426763, 0.2881589511326778, 0.16164215963277903, 0.4491663354994842, 0.5808247513759003, 0.5362650415013283, 0.16497815018813108, 0.10870031224104297, 0.949099846893703, 0.37825234814698133, 0.6375834521971153, 0.6543675484551404, 0.27114342148877524, 0.5480515869072446, 0.347617908890697, 0.12386434337539536, 0.4767401796922336, 0.49586551020467995, 0.21077673797010393, 0.41917553204800484, 0.40220088790170344, 0.5775671930395156, 0.11154478127387425, 0.08939831378066686, 0.5775671930395156, 0.6629763164969164, 0.4860259955618725, 0.8013922004272954, 0.8611460929632873, 0.937133939636659, 0.15184922222144673, 0.3564659879873343, 0.1751772844975208, 0.35496891912974543, 0.6855445507587136, 0.8653017688708172, 0.16042447591287484, 0.7199868532641834, 0.6241683071053487, 0.9491038034770035, 0.7831212935315502, 0.8751251275967891, 0.8493674292222098, 0.7480678772291709, 0.7131599068489405, 0.7803444162667285, 0.5474798924254433, 0.47716144614023165, 0.2765764905086718, 0.38398615020465404, 0.9096841354374109, 0.8992382463248878, 0.22691511508770162, 0.29553774485952494, 0.8375645810479837, 0.35087961101823595, 0.5444907611272453, 0.49165931405348545, 0.5075588443995712, 0.0884156257386697, 0.38836564648593763, 0.2357350293883499, 0.806470528329433, 0.8645129044350123, 0.9394166932232834, 0.9198224817787342, 0.2793026779284741, 0.3560600937421563, 0.11853229050765585, 0.12904907574335164, 0.47587088427637475, 0.7816612576599129, 0.8822127233977017, 0.019320602091501292, 0.8003557204578191, 0.6495190757816798, 0.5089103555346345, 0.7792447038421273, 0.2513436498239241, 0.9670537184261796, 0.6543675484551404, 0.3049573264446825, 0.14902930110608573, 0.4082439342366949, 0.7954288771953656, 0.9830693184600349, 0.7230818643611213, 0.5701440849114411, 0.613897208009737, 0.970593485569063, 0.7152233320150427, 0.11697810873493097, 0.4914841413307882, 0.8645129044350123, 0.7289430260823007, 0.5480515869072446, 0.668213271458481, 0.08681542594836704, 0.25243327613607713, 0.3311623012316748, 0.853255998379339, 0.8505500789729152, 0.03014057173507672, 0.9084115147920255, 0.6329431552176005, 0.8909437398360481, 0.9378359052119992, 0.7758628618456641, 0.9106819139429528, 0.7220825806678272, 0.3341033786848687, 0.1096423465622478, 0.9767778083290131, 0.8995933771766215, 0.20745132526535726, 0.5285595630125178, 0.41185482123173106, 0.9483920806439657, 0.5084047808988413, 0.5358752967353622, 0.2416748060548066, 0.009718824486353072, 0.21079591515000584, 0.4314256485621992, 0.7816612576599129, 0.8908443381762435, 0.25295039000608965, 0.8515609415065873, 0.599153347955668, 0.3821478415997632, 0.8858618294542105, 0.3557962465127798, 0.8873247790620176, 0.20339446996521335, 0.17655495331620916, 0.1872451693556743, 0.6551138141913132, 0.9002891040722798, 0.7864291202709719, 0.9271132477140782, 0.9122642840412332, 0.47302900860236985, 0.8550265267659973, 0.21099671669867642, 0.7170473498964147, 0.9220431591325532, 0.36783249599338336, 0.9903288682062835, 0.4092296768661218, 0.9848525953838897, 0.3620270987984756, 0.47217440170903174, 0.7668087601816647, 0.2899255264033563, 0.2564589556607362, 0.790750958804415, 0.40179863968990176, 0.5707088741220412, 0.38226130140280024, 0.7685364859194543, 0.8108527700962844, 0.22252923468708974, 0.13554965088712204, 0.19293599876975306, 0.9877623517571651, 0.16886082353378762, 0.11887852542203725, 0.8353025866280069, 0.2524422621488752, 0.9409799111205505, 0.766231676571591, 0.6574738589533565, 0.39081358067441296, 0.41185482123173106, 0.7355296446653772, 0.8040943259569567, 0.8654529140565559, 0.8189795451451242, 0.7082813917154452, 0.6971465264361897, 0.6702045382228702, 0.3414562100714553, 0.5043501591193589, 0.6157126389250993, 0.6455616887753685, 0.6123577118113238, 0.313462637873065, 0.4399714996180734, 0.4690810975138775, 0.959544940784975, 0.6830191594281729, 0.6455616887753685, 0.9089337670979006, 0.5228388901623386, 0.8159616146189727, 0.225267353109541, 0.8411970284462241, 0.36768736108791317, 0.8108527700962844, 0.8472186729845859, 0.4934064084147143, 0.2899255264033563, 0.5955199219269187, 0.6983758716264196, 0.9854205270009886, 0.7793981334110622, 0.2642582124492319, 0.3744279026736699, 0.4313103526148944, 0.22812529068609197, 0.931678061218937, 0.7134325508777034, 0.20325399480002962, 0.26087943857337703, 0.925831354710399, 0.13428702718520133, 0.5804861300333395, 0.8054568458396987, 0.37903189908423, 0.6634659623379183, 0.35672634422960936, 0.5647546453039823, 0.5852204972163895, 0.5301298958453722, 0.9899790325168187, 0.6601891971485663, 0.8098883333606111, 0.34499251138876635, 0.647088397554572, 0.9537423967711163, 0.9641090449683309, 0.03911010092208351, 0.6212012668003286, 0.860736187420994, 0.5469279919259233, 0.21114206914210795, 0.33336258582341183, 0.837854625910563, 0.5561220777167603, 0.7631179159384032, 0.17393152409703674, 0.16438232532191235, 0.8514296082791077, 0.29915022417366377, 0.25409774401560276, 0.1521646005707949, 0.9404971796225405, 0.942569083988671, 0.040117576872248595, 0.9641146595732053, 0.17141097509708134, 0.3080453917527008, 0.8079136959369744, 0.2338275256489285, 0.38326035279049, 0.2739756907883232, 0.8013922004272954, 0.48944073917752, 0.5353757082897777, 0.4698503086526786, 0.8635260669546954, 0.20407333802156108, 0.3030184372147912, 0.6021770329953292, 0.7112921666934365, 0.2724129628498053, 0.8883208529002242, 0.3414562100714553, 0.4929010589466755, 0.703047293309889, 0.20745132526535726, 0.18768768916233577, 0.7521780831078381, 0.12051129964034729, 0.5622066625038434, 0.1883842006923426, 0.4180952132064833, 0.226741516290198, 0.9471952963248891, 0.48281942448618825, 0.3411726023041544, 0.7355296446653772, 0.830450599424791, 0.3894058293675436, 0.3695894809577811, 0.12439046346460225, 0.6041077839766916, 0.9563508760753047, 0.643269125925591, 0.3542221787881557, 0.837854625910563, 0.12266873835136906, 0.09640009844198946, 0.6085163161789666, 0.4221024555751069, 0.822034789730473, 0.45595676583972755, 0.8387994521317377, 0.452121111983531, 0.7979506776084073, 0.44382308491729094, 0.2794648599112341, 0.7723551717366146, 0.2971386969537617, 0.23906358100326028, 0.12437276560363965, 0.927761953879301, 0.9603064959867705, 0.7524806292325635, 0.908581263032943, 0.417422018381208, 0.9742914077695455, 0.2238862555414759, 0.8014115724503041, 0.6018749963898958, 0.659630779968248, 0.3064523164312675, 0.19920574620265116, 0.2549510705498898, 0.4575065545579032, 0.7758628618456641, 0.9020769508667457, 0.6384777954191414, 0.7651401776740661, 0.86188504667947, 0.3508619367892666, 0.20141996183409855, 0.6338176889002769, 0.19874442330930775, 0.541065419516872, 0.8886225247836179, 0.30227406956288033, 0.8932645979089624, 0.3744279026736699, 0.5126067317656753, 0.20467962536546097, 0.19732315691083535, 0.9539846203076414, 0.9445961169975207, 0.8443950539686141, 0.8621541682759866, 0.2524422621488752, 0.9848525953838897, 0.13022704379068925, 0.01716354961296525, 0.23066015776889143, 0.9675067021158578, 0.17321403647023603, 0.9648254403047916, 0.848925961047466, 0.36368662803694063, 0.13022704379068925, 0.24443851110326606, 0.16497815018813108, 0.6172771174436222, 0.7873394914160713, 0.8629633468091753, 0.41185482123173106, 0.9414571230426763, 0.9831300086542992, 0.8474271458954357, 0.3657115711496717, 0.4943392375180176, 0.7221423335933781, 0.8596821088885059, 0.7080310954898175, 0.4421786201055408, 0.4297100465483227, 0.9390233531581332, 0.6701586799074684, 0.8702639192748097, 0.22664710934218385, 0.672881609681196, 0.43768007253723623, 0.7309749297843967, 0.9472205892303508, 0.35493806202173084, 0.9196225371894832, 0.14605967987884663, 0.9238907074811109, 0.4510108229887262, 0.35493806202173084, 0.2296129807206539, 0.45548344223676773, 0.36783249599338336, 0.7346886516412758, 0.09920210841758649, 0.10941880583458549, 0.12175956258666312, 0.1823503034575604, 0.1190268369636161, 0.3215116218045441, 0.5802193725308731, 0.6088962092887927, 0.32512915229122025, 0.7311707599501137, 0.5536267241862493, 0.7822969255868317, 0.880139221050333, 0.4185323447954613, 0.23916839360025074, 0.11172242702121556, 0.9596214775323023, 0.17495552980943915, 0.4771818986507712, 0.4009067891178737, 0.415000415254774, 0.6690733021614212, 0.339955710621543, 0.3334786485768441, 0.8435613189207577, 0.26870535264661644, 0.18788861131835113, 0.8383836302513203, 0.4006031906016466, 0.19986496428018308, 0.22652805095809972, 0.5660137278770514, 0.44386651725832554, 0.21476381368711567, 0.34426745817187476, 0.261032181369778, 0.8977456025074373, 0.9090274387121949, 0.8554596681351683, 0.18584573943778404, 0.3312161747019768, 0.15756803039724426, 0.6076925210876547, 0.8953303532249097, 0.6265999144030784, 0.540536546345439, 0.6830191594281729, 0.26844756902187494, 0.7426998631154744, 0.9081874186065809, 0.3497024739009382, 0.6598504437155293, 0.7344259179288937, 0.5785311560705828, 0.7492915321470965, 0.2559616782657379, 0.31446820698727673, 0.3813077836724367, 0.5081174742028858, 0.33685377939944827, 0.8483411631031879, 0.8684853312180714, 0.8926556733394119, 0.2366295354021177, 0.38226130140280024, 0.9722886331762091, 0.4077411936358557, 0.16192578806063337, 0.21713676198551565, 0.6863888986156904, 0.6060857253973984, 0.3335308629329868, 0.2338275256489285, 0.7819806788969919, 0.14789999184421376, 0.5536267241862493, 0.5176301041858329, 0.39665885782947563, 0.31771729952008354, 0.8874485068909183, 0.3600278070764884, 0.33563894997209714, 0.591112191810676, 0.4290166635473455, 0.7102247725785855, 0.2261093053719512, 0.19466222515312803, 0.258933119082986, 0.9536900135744288, 0.07631641208719733, 0.8515315631711051, 0.8366121787072832, 0.23669712643883217, 0.8817585800980513, 0.9042051469052486, 0.9264421752355171, 0.8758778272267783, 0.564033915705728, 0.6241683071053487, 0.16164215963277903, 0.8188966393982935, 0.3667290636769981, 0.6071824102847305, 0.9703690391720398, 0.39176229791274436, 0.3880949003144238, 0.669111551859993, 0.44386651725832554, 0.6387490754502322, 0.6603087198911404, 0.29050706872261967, 0.17503428316253522, 0.12437276560363965, 0.5453862578401195, 0.5717926913332659, 0.2921036959005851, 0.9677025841644925, 0.5643117685869419, 0.7973516528493759, 0.5699909173366844, 0.7983183699986455, 0.15522918436253408, 0.33720056639547535, 0.3037770400112272, 0.5110713479745002, 0.9251012262966739, 0.9531723040589203, 0.7214555470471037, 0.24548342191691488, 0.6448562861424415, 0.48680061020631554, 0.826339482034385, 0.04538667520021729, 0.39665885782947563, 0.8380298487593306, 0.9185165212437073, 0.5070051752379099, 0.4237835336215404, 0.8159616146189727, 0.6051393711255425, 0.09585054976086818, 0.6053693034732361, 0.17706879906178544, 0.1989134043090133, 0.5193679713273945, 0.5470273217743499, 0.9279099905520736, 0.9365098865604847, 0.13554965088712204, 0.16748377503854012, 0.38922217566473033, 0.8400737738072394, 0.30227406956288033, 0.5470273217743499, 0.15935848818599033, 0.14494176317341234, 0.859779184311762, 0.1768028054256549, 0.16827941244606645, 0.5374611046316043, 0.24744998301957857, 0.7381718252981332, 0.5836831903219358, 0.662797804018617, 0.5842273508395842, 0.4660353541625007, 0.22003615725238293, 0.15874249149708008, 0.717591242952354, 0.9220431591325532, 0.24227878990503868, 0.12866829302964683, 0.848925961047466, 0.9920347451277576, 0.7150942471727509, 0.896571299265679, 0.11377152929700185, 0.5349357808187429, 0.9463410391005556, 0.2120463928778829, 0.05396259542011786, 0.4237835336215404, 0.11957247692480569, 0.3901010500747623, 0.5472106495740184, 0.5803250415937378, 0.6186857797629218, 0.5237551368050158, 0.21171014897946533, 0.4767401796922336, 0.3110139197123199, 0.7650592460178729, 0.7308570143169805, 0.4748200177331193, 0.16328748966871698, 0.8695538282187372, 0.6180080303133247, 0.14089139470472722, 0.9574592582885236, 0.5916152293316406, 0.9730769727098416, 0.48534454269805555, 0.1190268369636161, 0.9583040490258149, 0.726721935478854, 0.4235619112052525, 0.04185975964973517, 0.5259124402300186, 0.8098280911253922, 0.8032936272729132, 0.861932418381222, 0.8474271458954357, 0.5630993864833933, 0.42613652255647083, 0.6307120906241153, 0.42795440475862456, 0.575329905588968, 0.4809493095843679, 0.977687527327957, 0.4112526304023081, 0.6827842149593122, 0.9056464276168394, 0.7584177760186829, 0.5369663611447957, 0.32682728302481956, 0.23886166724048247, 0.8989839705408774, 0.5426860822199082, 0.4554834422367682, 0.14132390053396554, 0.1745416764613079, 0.6395201317964628, 0.3545241339309665, 0.9855549513967125, 0.8193400248717254, 0.9443296166404201, 0.08114009961474579, 0.4064824329218635, 0.5326134459722602, 0.21908912848448503, 0.8417147332101137, 0.17070046811778675, 0.13313324783417843, 0.4009067891178737, 0.6021770329953292, 0.3717906911701095, 0.8485351466215245, 0.155401479800538, 0.26976013718443415, 0.37815804387017243, 0.31958221233273865, 0.17062857233527776, 0.853489621484614, 0.603190923741961, 0.2188683219452849, 0.6690038207080813, 0.8550062373185402, 0.16623009173592487, 0.41185482123173106, 0.691564618514283, 0.17002200710413404, 0.6123489695634028, 0.6301675253072222, 0.5467721195309655, 0.5416231326659238, 0.59372659501452, 0.6853174469112693, 0.2362767615502167, 0.7438785392440733, 0.3193621900974721, 0.38487853521912024, 0.1873924233618551, 0.7181040882090505, 0.3398102328029362, 0.946567536640106, 0.633946791037477, 0.443983982308921, 0.617708165199027, 0.7346568256752518, 0.9702295923708856, 0.25243327613607713, 0.7306278270498515, 0.9709569907330231, 0.7344390614648034, 0.4691553492694341, 0.14069678905929023, 0.1787755235177148, 0.9792922813300435, 0.24663509631973451, 0.05826704838899009, 0.40266568814640785, 0.6294079543699963, 0.848925961047466, 0.47654066899208497, 0.9078339318898307, 0.19662529651122793, 0.8621541682759866, 0.8551676572383906, 0.3965583472384523, 0.47945990211644796, 0.25833321239948287, 0.8758778272267783, 0.3511676204186208, 0.48798622175085055, 0.8809448683397807, 0.7732854819858563, 0.6574738589533565, 0.3049573264446825, 0.1406307624935272, 0.4060474150224197, 0.8938476201816525, 0.8694298296415061, 0.7654359844394695, 0.7994421053828988, 0.428324629162695, 0.10051781719696393, 0.612594692784095, 0.24239163849033663, 0.7880029509634253, 0.5955199219269187, 0.9029747537665695, 0.09710723857867126, 0.2674674178338087, 0.4403716995181161, 0.9808152092467595, 0.6543675484551404, 0.9448812223890402, 0.3730176075285931, 0.46636396144039416, 0.7630921992745362, 0.848925961047466, 0.21331414100590082, 0.7890938908433498, 0.4060474150224197, 0.8390997480255398, 0.07559940737347304, 0.275357561639399, 0.612992921112452, 0.18788861131835113, 0.06408695656073281, 0.15083873515266655, 0.39081358067441296, 0.5275028223243591, 0.14018981794289012, 0.33336258582341183, 0.1884866268907287, 0.3246482578362263, 0.5860336495281927, 0.5081258831217036, 0.22003615725238293, 0.4459350432590091, 0.6598504437155293, 0.20327921946148447, 0.29940456798564924, 0.9017052491639133, 0.7221423335933781, 0.4202168630632521, 0.934539204835598, 0.6455616887753685, 0.3245285069700728, 0.7875354143679554, 0.25165490108576555, 0.7182368155423983, 0.9415322166471962, 0.2607250775325639, 0.2022969273530221, 0.6449817617950475, 0.29193523848468744, 0.20296213684645462, 0.9136979943853252]\n"
     ]
    }
   ],
   "source": [
    "y_pred = model.predict(X_train_split_sm)\n",
    "y_pred = y_pred.values.reshape(-1)\n",
    "y_pred_orginal = list(y_pred)\n",
    "y_pred[y_pred>=0.5]=1\n",
    "y_pred[y_pred<0.5]=0\n",
    "print(y_pred)\n",
    "print(y_pred_orginal)"
   ]
  },
  {
   "cell_type": "code",
   "execution_count": 133,
   "metadata": {},
   "outputs": [],
   "source": [
    "# Evaluation\n",
    "from sklearn import metrics\n"
   ]
  },
  {
   "cell_type": "code",
   "execution_count": 134,
   "metadata": {},
   "outputs": [
    {
     "name": "stdout",
     "output_type": "stream",
     "text": [
      "[[388 132]\n",
      " [141 458]]\n"
     ]
    }
   ],
   "source": [
    "\n",
    "cm = metrics.confusion_matrix(Y_train_split,y_pred)\n",
    "print(cm)"
   ]
  },
  {
   "cell_type": "code",
   "execution_count": null,
   "metadata": {},
   "outputs": [],
   "source": [
    "\"\"\"\n",
    "Actual    Predicted\n",
    "          \n",
    "       |  Bad  | Good\n",
    "\n",
    " Bad   |  388  | 132\n",
    " \n",
    " Good  |  141  | 458\n",
    "\n",
    "\n",
    "\"\"\""
   ]
  },
  {
   "cell_type": "code",
   "execution_count": 135,
   "metadata": {},
   "outputs": [],
   "source": [
    "TruePositive = cm[1,1] \n",
    "TrueNegative = cm[0,0]\n",
    "FalsePositive = cm [0,1]\n",
    "FalseNegative = cm [1,0]"
   ]
  },
  {
   "cell_type": "code",
   "execution_count": 138,
   "metadata": {},
   "outputs": [
    {
     "name": "stdout",
     "output_type": "stream",
     "text": [
      "75.60321715817693\n"
     ]
    }
   ],
   "source": [
    "Accuracy = (TruePositive + TrueNegative) / (TruePositive + TrueNegative + FalsePositive +FalseNegative )\n",
    "print(Accuracy*100)"
   ]
  },
  {
   "cell_type": "code",
   "execution_count": 139,
   "metadata": {},
   "outputs": [
    {
     "name": "stdout",
     "output_type": "stream",
     "text": [
      "0.7646076794657763\n"
     ]
    }
   ],
   "source": [
    "Sensitivity = TruePositive / (TruePositive + FalseNegative )\n",
    "print(Sensitivity)"
   ]
  },
  {
   "cell_type": "code",
   "execution_count": 140,
   "metadata": {},
   "outputs": [
    {
     "name": "stdout",
     "output_type": "stream",
     "text": [
      "0.7461538461538462\n"
     ]
    }
   ],
   "source": [
    "Specificity = TrueNegative / (TrueNegative  + FalsePositive)\n",
    "print(Specificity)"
   ]
  },
  {
   "cell_type": "code",
   "execution_count": 142,
   "metadata": {},
   "outputs": [
    {
     "name": "stdout",
     "output_type": "stream",
     "text": [
      "0.7646076794657763\n"
     ]
    }
   ],
   "source": [
    "TruePositiveRate = Sensitivity\n",
    "print(TruePositiveRate)"
   ]
  },
  {
   "cell_type": "code",
   "execution_count": 141,
   "metadata": {},
   "outputs": [
    {
     "name": "stdout",
     "output_type": "stream",
     "text": [
      "0.25384615384615383\n",
      "0.25384615384615383\n"
     ]
    }
   ],
   "source": [
    "FalsePositiveRate = FalsePositive / (TrueNegative + FalsePositive)\n",
    "print(FalsePositiveRate)\n",
    "FalsePositiveRate2 = 1- Specificity\n",
    "print(FalsePositiveRate2)"
   ]
  },
  {
   "cell_type": "code",
   "execution_count": 143,
   "metadata": {},
   "outputs": [
    {
     "name": "stdout",
     "output_type": "stream",
     "text": [
      "0.7762711864406779\n"
     ]
    }
   ],
   "source": [
    "# positive predictive value\n",
    "PositivePredictiveValue = TruePositive / (TruePositive+FalsePositive)\n",
    "print(PositivePredictiveValue)"
   ]
  },
  {
   "cell_type": "code",
   "execution_count": 144,
   "metadata": {},
   "outputs": [
    {
     "name": "stdout",
     "output_type": "stream",
     "text": [
      "0.7334593572778828\n"
     ]
    }
   ],
   "source": [
    "# negative predictive value\n",
    "NegativePredictiveValue  = TrueNegative /(TrueNegative + FalseNegative)\n",
    "print(NegativePredictiveValue)"
   ]
  },
  {
   "cell_type": "code",
   "execution_count": 145,
   "metadata": {},
   "outputs": [
    {
     "name": "stdout",
     "output_type": "stream",
     "text": [
      "0.7646076794657763\n"
     ]
    }
   ],
   "source": [
    "Recall = Sensitivity\n",
    "print(Sensitivity)"
   ]
  },
  {
   "cell_type": "code",
   "execution_count": 147,
   "metadata": {},
   "outputs": [
    {
     "name": "stdout",
     "output_type": "stream",
     "text": [
      "0.7762711864406779\n"
     ]
    }
   ],
   "source": [
    "# Precision = TruePositive / (TruePositive+FalsePositive) = PositivePredictiveValue\n",
    "Precision = PositivePredictiveValue\n",
    "print(Precision)"
   ]
  },
  {
   "cell_type": "code",
   "execution_count": 168,
   "metadata": {},
   "outputs": [
    {
     "name": "stdout",
     "output_type": "stream",
     "text": [
      "0.8251797868241941\n"
     ]
    }
   ],
   "source": [
    "# Get the AUC ROC score\n",
    "auc_score = metrics.roc_auc_score(Y_train_split,y_pred_orginal)\n",
    "print(auc_score)"
   ]
  },
  {
   "cell_type": "code",
   "execution_count": 167,
   "metadata": {},
   "outputs": [
    {
     "data": {
      "image/png": "[encoded data removed]",
      "text/plain": [
       "<Figure size 1440x720 with 1 Axes>"
      ]
     },
     "metadata": {
      "needs_background": "light"
     },
     "output_type": "display_data"
    }
   ],
   "source": [
    "# Plot the ROC curve for different thresholds of output\n",
    "\n",
    "fpr,tpr,threshold = metrics.roc_curve(Y_train_split,y_pred_orginal)\n",
    "plt.figure(figsize = (20,10))\n",
    "plt.plot(fpr,tpr,marker=\".\",label = \"ROC Curve\")\n",
    "plt.xlabel(\"False Postive Rate or 1- [Specificity (True Negative Rate)]\")\n",
    "plt.ylabel(\"True Positive Rate \")\n",
    "plt.show()"
   ]
  },
  {
   "cell_type": "code",
   "execution_count": 170,
   "metadata": {},
   "outputs": [
    {
     "data": {
      "text/html": [
       "<div>\n",
       "<style scoped>\n",
       "    .dataframe tbody tr th:only-of-type {\n",
       "        vertical-align: middle;\n",
       "    }\n",
       "\n",
       "    .dataframe tbody tr th {\n",
       "        vertical-align: top;\n",
       "    }\n",
       "\n",
       "    .dataframe thead th {\n",
       "        text-align: right;\n",
       "    }\n",
       "</style>\n",
       "<table border=\"1\" class=\"dataframe\">\n",
       "  <thead>\n",
       "    <tr style=\"text-align: right;\">\n",
       "      <th></th>\n",
       "      <th>Actual</th>\n",
       "      <th>Pred</th>\n",
       "    </tr>\n",
       "  </thead>\n",
       "  <tbody>\n",
       "    <tr>\n",
       "      <th>858</th>\n",
       "      <td>1.0</td>\n",
       "      <td>0.877098</td>\n",
       "    </tr>\n",
       "    <tr>\n",
       "      <th>654</th>\n",
       "      <td>0.0</td>\n",
       "      <td>0.253284</td>\n",
       "    </tr>\n",
       "    <tr>\n",
       "      <th>721</th>\n",
       "      <td>0.0</td>\n",
       "      <td>0.164811</td>\n",
       "    </tr>\n",
       "    <tr>\n",
       "      <th>176</th>\n",
       "      <td>0.0</td>\n",
       "      <td>0.352718</td>\n",
       "    </tr>\n",
       "    <tr>\n",
       "      <th>692</th>\n",
       "      <td>0.0</td>\n",
       "      <td>0.216524</td>\n",
       "    </tr>\n",
       "  </tbody>\n",
       "</table>\n",
       "</div>"
      ],
      "text/plain": [
       "     Actual      Pred\n",
       "858     1.0  0.877098\n",
       "654     0.0  0.253284\n",
       "721     0.0  0.164811\n",
       "176     0.0  0.352718\n",
       "692     0.0  0.216524"
      ]
     },
     "execution_count": 170,
     "metadata": {},
     "output_type": "execute_result"
    }
   ],
   "source": [
    "prediction_df = pd.DataFrame({\"Actual\":Y_train_split,\"Pred\":y_pred_orginal})\n",
    "prediction_df.head()"
   ]
  },
  {
   "cell_type": "code",
   "execution_count": 178,
   "metadata": {},
   "outputs": [
    {
     "name": "stdout",
     "output_type": "stream",
     "text": [
      "[0.0, 0.1, 0.2, 0.3, 0.4, 0.5, 0.6, 0.7, 0.8, 0.9]\n"
     ]
    },
    {
     "data": {
      "text/html": [
       "<div>\n",
       "<style scoped>\n",
       "    .dataframe tbody tr th:only-of-type {\n",
       "        vertical-align: middle;\n",
       "    }\n",
       "\n",
       "    .dataframe tbody tr th {\n",
       "        vertical-align: top;\n",
       "    }\n",
       "\n",
       "    .dataframe thead th {\n",
       "        text-align: right;\n",
       "    }\n",
       "</style>\n",
       "<table border=\"1\" class=\"dataframe\">\n",
       "  <thead>\n",
       "    <tr style=\"text-align: right;\">\n",
       "      <th></th>\n",
       "      <th>Actual</th>\n",
       "      <th>Pred</th>\n",
       "      <th>0.0</th>\n",
       "      <th>0.1</th>\n",
       "      <th>0.2</th>\n",
       "      <th>0.3</th>\n",
       "      <th>0.4</th>\n",
       "      <th>0.5</th>\n",
       "      <th>0.6</th>\n",
       "      <th>0.7</th>\n",
       "      <th>0.8</th>\n",
       "      <th>0.9</th>\n",
       "    </tr>\n",
       "  </thead>\n",
       "  <tbody>\n",
       "    <tr>\n",
       "      <th>858</th>\n",
       "      <td>1.0</td>\n",
       "      <td>0.877098</td>\n",
       "      <td>1</td>\n",
       "      <td>1</td>\n",
       "      <td>1</td>\n",
       "      <td>1</td>\n",
       "      <td>1</td>\n",
       "      <td>1</td>\n",
       "      <td>1</td>\n",
       "      <td>1</td>\n",
       "      <td>1</td>\n",
       "      <td>0</td>\n",
       "    </tr>\n",
       "    <tr>\n",
       "      <th>654</th>\n",
       "      <td>0.0</td>\n",
       "      <td>0.253284</td>\n",
       "      <td>1</td>\n",
       "      <td>1</td>\n",
       "      <td>1</td>\n",
       "      <td>0</td>\n",
       "      <td>0</td>\n",
       "      <td>0</td>\n",
       "      <td>0</td>\n",
       "      <td>0</td>\n",
       "      <td>0</td>\n",
       "      <td>0</td>\n",
       "    </tr>\n",
       "    <tr>\n",
       "      <th>721</th>\n",
       "      <td>0.0</td>\n",
       "      <td>0.164811</td>\n",
       "      <td>1</td>\n",
       "      <td>1</td>\n",
       "      <td>0</td>\n",
       "      <td>0</td>\n",
       "      <td>0</td>\n",
       "      <td>0</td>\n",
       "      <td>0</td>\n",
       "      <td>0</td>\n",
       "      <td>0</td>\n",
       "      <td>0</td>\n",
       "    </tr>\n",
       "    <tr>\n",
       "      <th>176</th>\n",
       "      <td>0.0</td>\n",
       "      <td>0.352718</td>\n",
       "      <td>1</td>\n",
       "      <td>1</td>\n",
       "      <td>1</td>\n",
       "      <td>1</td>\n",
       "      <td>0</td>\n",
       "      <td>0</td>\n",
       "      <td>0</td>\n",
       "      <td>0</td>\n",
       "      <td>0</td>\n",
       "      <td>0</td>\n",
       "    </tr>\n",
       "    <tr>\n",
       "      <th>692</th>\n",
       "      <td>0.0</td>\n",
       "      <td>0.216524</td>\n",
       "      <td>1</td>\n",
       "      <td>1</td>\n",
       "      <td>1</td>\n",
       "      <td>0</td>\n",
       "      <td>0</td>\n",
       "      <td>0</td>\n",
       "      <td>0</td>\n",
       "      <td>0</td>\n",
       "      <td>0</td>\n",
       "      <td>0</td>\n",
       "    </tr>\n",
       "  </tbody>\n",
       "</table>\n",
       "</div>"
      ],
      "text/plain": [
       "     Actual      Pred  0.0  0.1  0.2  0.3  0.4  0.5  0.6  0.7  0.8  0.9\n",
       "858     1.0  0.877098    1    1    1    1    1    1    1    1    1    0\n",
       "654     0.0  0.253284    1    1    1    0    0    0    0    0    0    0\n",
       "721     0.0  0.164811    1    1    0    0    0    0    0    0    0    0\n",
       "176     0.0  0.352718    1    1    1    1    0    0    0    0    0    0\n",
       "692     0.0  0.216524    1    1    1    0    0    0    0    0    0    0"
      ]
     },
     "execution_count": 178,
     "metadata": {},
     "output_type": "execute_result"
    }
   ],
   "source": [
    "# create the labels for thresholds form 0.0 to 0.9\n",
    "nums = [float(x/10) for x in range(10)]\n",
    "print(nums)\n",
    "\n",
    "\n",
    "\n",
    "for num in nums:\n",
    "    prediction_df[num] = prediction_df.Pred.apply(lambda x : 1 if x > num else 0)\n",
    "prediction_df.head()"
   ]
  },
  {
   "cell_type": "code",
   "execution_count": 179,
   "metadata": {},
   "outputs": [
    {
     "data": {
      "text/html": [
       "<div>\n",
       "<style scoped>\n",
       "    .dataframe tbody tr th:only-of-type {\n",
       "        vertical-align: middle;\n",
       "    }\n",
       "\n",
       "    .dataframe tbody tr th {\n",
       "        vertical-align: top;\n",
       "    }\n",
       "\n",
       "    .dataframe thead th {\n",
       "        text-align: right;\n",
       "    }\n",
       "</style>\n",
       "<table border=\"1\" class=\"dataframe\">\n",
       "  <thead>\n",
       "    <tr style=\"text-align: right;\">\n",
       "      <th></th>\n",
       "      <th>prob</th>\n",
       "      <th>acc</th>\n",
       "      <th>sensitivity</th>\n",
       "      <th>specificity</th>\n",
       "    </tr>\n",
       "  </thead>\n",
       "  <tbody>\n",
       "    <tr>\n",
       "      <th>0.0</th>\n",
       "      <td>0.0</td>\n",
       "      <td>0.535299</td>\n",
       "      <td>1.000000</td>\n",
       "      <td>0.000000</td>\n",
       "    </tr>\n",
       "    <tr>\n",
       "      <th>0.1</th>\n",
       "      <td>0.1</td>\n",
       "      <td>0.562109</td>\n",
       "      <td>0.993322</td>\n",
       "      <td>0.065385</td>\n",
       "    </tr>\n",
       "    <tr>\n",
       "      <th>0.2</th>\n",
       "      <td>0.2</td>\n",
       "      <td>0.638070</td>\n",
       "      <td>0.953255</td>\n",
       "      <td>0.275000</td>\n",
       "    </tr>\n",
       "    <tr>\n",
       "      <th>0.3</th>\n",
       "      <td>0.3</td>\n",
       "      <td>0.704200</td>\n",
       "      <td>0.906511</td>\n",
       "      <td>0.471154</td>\n",
       "    </tr>\n",
       "    <tr>\n",
       "      <th>0.4</th>\n",
       "      <td>0.4</td>\n",
       "      <td>0.738159</td>\n",
       "      <td>0.834725</td>\n",
       "      <td>0.626923</td>\n",
       "    </tr>\n",
       "    <tr>\n",
       "      <th>0.5</th>\n",
       "      <td>0.5</td>\n",
       "      <td>0.756032</td>\n",
       "      <td>0.764608</td>\n",
       "      <td>0.746154</td>\n",
       "    </tr>\n",
       "    <tr>\n",
       "      <th>0.6</th>\n",
       "      <td>0.6</td>\n",
       "      <td>0.739053</td>\n",
       "      <td>0.667780</td>\n",
       "      <td>0.821154</td>\n",
       "    </tr>\n",
       "    <tr>\n",
       "      <th>0.7</th>\n",
       "      <td>0.7</td>\n",
       "      <td>0.707775</td>\n",
       "      <td>0.547579</td>\n",
       "      <td>0.892308</td>\n",
       "    </tr>\n",
       "    <tr>\n",
       "      <th>0.8</th>\n",
       "      <td>0.8</td>\n",
       "      <td>0.673816</td>\n",
       "      <td>0.430718</td>\n",
       "      <td>0.953846</td>\n",
       "    </tr>\n",
       "    <tr>\n",
       "      <th>0.9</th>\n",
       "      <td>0.9</td>\n",
       "      <td>0.583557</td>\n",
       "      <td>0.230384</td>\n",
       "      <td>0.990385</td>\n",
       "    </tr>\n",
       "  </tbody>\n",
       "</table>\n",
       "</div>"
      ],
      "text/plain": [
       "     prob       acc  sensitivity  specificity\n",
       "0.0   0.0  0.535299     1.000000     0.000000\n",
       "0.1   0.1  0.562109     0.993322     0.065385\n",
       "0.2   0.2  0.638070     0.953255     0.275000\n",
       "0.3   0.3  0.704200     0.906511     0.471154\n",
       "0.4   0.4  0.738159     0.834725     0.626923\n",
       "0.5   0.5  0.756032     0.764608     0.746154\n",
       "0.6   0.6  0.739053     0.667780     0.821154\n",
       "0.7   0.7  0.707775     0.547579     0.892308\n",
       "0.8   0.8  0.673816     0.430718     0.953846\n",
       "0.9   0.9  0.583557     0.230384     0.990385"
      ]
     },
     "execution_count": 179,
     "metadata": {},
     "output_type": "execute_result"
    }
   ],
   "source": [
    "metrics_df = pd.DataFrame(columns = [\"prob\",\"acc\",\"sensitivity\",\"specificity\"])\n",
    "\n",
    "for i in nums:\n",
    "    cm = metrics.confusion_matrix(prediction_df[\"Actual\"],prediction_df[i])\n",
    "    TruePositive = cm[1,1] \n",
    "    TrueNegative = cm[0,0]\n",
    "    FalsePositive = cm [0,1]\n",
    "    FalseNegative = cm [1,0]\n",
    "    accuracy = (TruePositive + TrueNegative) / (TruePositive + TrueNegative + FalsePositive + FalseNegative)\n",
    "    sensitivity = TruePositive / (TruePositive + FalseNegative)\n",
    "    specificity = TrueNegative / (TrueNegative + FalsePositive)\n",
    "    metrics_df.loc[i] = [i,accuracy,sensitivity,specificity]\n",
    "    \n",
    "metrics_df"
   ]
  },
  {
   "cell_type": "code",
   "execution_count": 180,
   "metadata": {},
   "outputs": [
    {
     "data": {
      "image/png": "[encoded data removed]",
      "text/plain": [
       "<Figure size 432x288 with 1 Axes>"
      ]
     },
     "metadata": {
      "needs_background": "light"
     },
     "output_type": "display_data"
    }
   ],
   "source": [
    "metrics_df.plot.line(x = \"prob\", y = [\"acc\",\"sensitivity\",\"specificity\"])\n",
    "plt.show()"
   ]
  },
  {
   "cell_type": "code",
   "execution_count": null,
   "metadata": {},
   "outputs": [],
   "source": [
    "# Sensitivity and Specificity meet at prob = 0.5\n",
    "# So we can choose threshold 0.5\n"
   ]
  },
  {
   "cell_type": "code",
   "execution_count": 185,
   "metadata": {},
   "outputs": [
    {
     "data": {
      "image/png": "[encoded data removed]",
      "text/plain": [
       "<Figure size 432x288 with 1 Axes>"
      ]
     },
     "metadata": {
      "needs_background": "light"
     },
     "output_type": "display_data"
    }
   ],
   "source": [
    "# Precision - Recall curve\n",
    "precision, recall , threshold = metrics.precision_recall_curve(Y_train_split,y_pred_orginal)\n",
    "\n",
    "f1score = (1/precision[:-1] )+ (1/recall[:-1])\n",
    "\n",
    "plt.plot(threshold,precision[:-1],\"g-\")\n",
    "\n",
    "plt.plot(threshold,recall[:-1],\"r-\",label = \"Precision - Recall Curve\")\n",
    "plt.show()"
   ]
  },
  {
   "cell_type": "code",
   "execution_count": 190,
   "metadata": {},
   "outputs": [
    {
     "data": {
      "image/png": "[encoded data removed]",
      "text/plain": [
       "<Figure size 432x288 with 1 Axes>"
      ]
     },
     "metadata": {
      "needs_background": "light"
     },
     "output_type": "display_data"
    }
   ],
   "source": [
    "#print(f1score)\n",
    "f1score[f1score>10] =10\n",
    "plt.plot(threshold,f1score,\"b-\")\n",
    "plt.show()"
   ]
  },
  {
   "cell_type": "code",
   "execution_count": null,
   "metadata": {},
   "outputs": [],
   "source": [
    "# here also the threshold is 0.5 as precision and recall meet at the point\n"
   ]
  },
  {
   "cell_type": "code",
   "execution_count": null,
   "metadata": {},
   "outputs": [],
   "source": [
    "\n",
    "\n",
    "# read data\n",
    "# feature engineering\n",
    "# Train Model\n",
    "# Evaluate model"
   ]
  }
 ],
 "metadata": {
  "kernelspec": {
   "display_name": "Python [conda env:mlpy36] *",
   "language": "python",
   "name": "conda-env-mlpy36-py"
  },
  "language_info": {
   "codemirror_mode": {
    "name": "ipython",
    "version": 3
   },
   "file_extension": ".py",
   "mimetype": "text/x-python",
   "name": "python",
   "nbconvert_exporter": "python",
   "pygments_lexer": "ipython3",
   "version": "3.6.12"
  }
 },
 "nbformat": 4,
 "nbformat_minor": 4
}
